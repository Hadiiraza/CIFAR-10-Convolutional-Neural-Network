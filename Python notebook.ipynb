{
  "cells": [
    {
      "cell_type": "markdown",
      "source": [
        "## This notebook demonstrates the process of building and training a Convolutional Neural Network (CNN) using the CIFAR-10 dataset, which contains 60,000 32x32 color images in 10 different classes."
      ],
      "metadata": {
        "id": "AufFxzmPpWQz"
      },
      "id": "AufFxzmPpWQz"
    },
    {
      "cell_type": "code",
      "execution_count": 84,
      "id": "6ced9725",
      "metadata": {
        "tags": [],
        "id": "6ced9725"
      },
      "outputs": [],
      "source": [
        "# Importing necessary libraries\n",
        "from keras.datasets import mnist\n",
        "from keras.models import Sequential\n",
        "from keras.layers import Dense, Conv2D, MaxPool2D, Flatten\n",
        "from sklearn.metrics import classification_report\n",
        "from keras.utils import to_categorical\n",
        "from keras.datasets import cifar10\n",
        "import matplotlib.pyplot as plt"
      ]
    },
    {
      "cell_type": "code",
      "execution_count": 85,
      "id": "944e5e79",
      "metadata": {
        "id": "944e5e79"
      },
      "outputs": [],
      "source": [
        "# Loading CIFAR-10 dataset\n",
        "(x_train, y_train), (x_test, y_test) = cifar10.load_data()"
      ]
    },
    {
      "cell_type": "code",
      "execution_count": 86,
      "id": "77159bc5",
      "metadata": {
        "colab": {
          "base_uri": "https://localhost:8080/"
        },
        "id": "77159bc5",
        "outputId": "dc506cb3-b48f-4e2a-fd3f-462ddebe50f4"
      },
      "outputs": [
        {
          "output_type": "execute_result",
          "data": {
            "text/plain": [
              "(50000, 32, 32, 3)"
            ]
          },
          "metadata": {},
          "execution_count": 86
        }
      ],
      "source": [
        "# Checking the shape of the training data\n",
        "x_train.shape"
      ]
    },
    {
      "cell_type": "code",
      "execution_count": 87,
      "id": "df47b26c",
      "metadata": {
        "colab": {
          "base_uri": "https://localhost:8080/"
        },
        "id": "df47b26c",
        "outputId": "81774531-efa4-47f3-9daf-e063e547593d"
      },
      "outputs": [
        {
          "output_type": "execute_result",
          "data": {
            "text/plain": [
              "array([[[126, 118, 110],\n",
              "        [122, 115, 108],\n",
              "        [126, 119, 111],\n",
              "        ...,\n",
              "        [124, 118, 106],\n",
              "        [120, 114, 102],\n",
              "        [117, 111,  99]],\n",
              "\n",
              "       [[122, 115, 107],\n",
              "        [119, 112, 104],\n",
              "        [121, 114, 106],\n",
              "        ...,\n",
              "        [124, 118, 106],\n",
              "        [122, 116, 104],\n",
              "        [117, 111,  99]],\n",
              "\n",
              "       [[122, 115, 107],\n",
              "        [121, 114, 106],\n",
              "        [121, 114, 106],\n",
              "        ...,\n",
              "        [126, 120, 108],\n",
              "        [123, 117, 105],\n",
              "        [121, 115, 103]],\n",
              "\n",
              "       ...,\n",
              "\n",
              "       [[126, 118, 107],\n",
              "        [126, 118, 107],\n",
              "        [128, 120, 109],\n",
              "        ...,\n",
              "        [133, 125, 114],\n",
              "        [122, 114, 103],\n",
              "        [114, 106,  95]],\n",
              "\n",
              "       [[125, 117, 106],\n",
              "        [126, 118, 107],\n",
              "        [127, 119, 108],\n",
              "        ...,\n",
              "        [128, 120, 109],\n",
              "        [121, 113, 102],\n",
              "        [114, 106,  95]],\n",
              "\n",
              "       [[123, 115, 104],\n",
              "        [123, 115, 104],\n",
              "        [126, 118, 107],\n",
              "        ...,\n",
              "        [128, 119, 109],\n",
              "        [126, 118, 107],\n",
              "        [121, 113, 102]]], dtype=uint8)"
            ]
          },
          "metadata": {},
          "execution_count": 87
        }
      ],
      "source": [
        "# Visualizing a single image from the dataset\n",
        "single_image = x_train[30]\n",
        "single_image"
      ]
    },
    {
      "cell_type": "code",
      "execution_count": 88,
      "id": "c56c0bf5",
      "metadata": {
        "colab": {
          "base_uri": "https://localhost:8080/"
        },
        "id": "c56c0bf5",
        "outputId": "d90f71eb-e014-40f4-d985-96f3cd4fe92b"
      },
      "outputs": [
        {
          "output_type": "execute_result",
          "data": {
            "text/plain": [
              "(32, 32, 3)"
            ]
          },
          "metadata": {},
          "execution_count": 88
        }
      ],
      "source": [
        "# Checking the shape of the single image\n",
        "single_image.shape"
      ]
    },
    {
      "cell_type": "code",
      "execution_count": 89,
      "id": "ca0f9102",
      "metadata": {
        "colab": {
          "base_uri": "https://localhost:8080/",
          "height": 447
        },
        "id": "ca0f9102",
        "outputId": "fcef41fa-831d-4c8f-e371-ef114cbb5de9"
      },
      "outputs": [
        {
          "output_type": "execute_result",
          "data": {
            "text/plain": [
              "<matplotlib.image.AxesImage at 0x78a6adddf220>"
            ]
          },
          "metadata": {},
          "execution_count": 89
        },
        {
          "output_type": "display_data",
          "data": {
            "text/plain": [
              "<Figure size 640x480 with 1 Axes>"
            ],
            "image/png": "[encoded data removed]"
          },
          "metadata": {}
        }
      ],
      "source": [
        "# Displaying the single image\n",
        "plt.imshow(single_image)"
      ]
    },
    {
      "cell_type": "code",
      "execution_count": 90,
      "id": "3ff2da32",
      "metadata": {
        "colab": {
          "base_uri": "https://localhost:8080/"
        },
        "id": "3ff2da32",
        "outputId": "26ff8f3a-779c-47e3-b8da-28af59d7c392"
      },
      "outputs": [
        {
          "output_type": "execute_result",
          "data": {
            "text/plain": [
              "array([[3],\n",
              "       [8],\n",
              "       [8],\n",
              "       ...,\n",
              "       [5],\n",
              "       [1],\n",
              "       [7]], dtype=uint8)"
            ]
          },
          "metadata": {},
          "execution_count": 90
        }
      ],
      "source": [
        "# Checking the shape of y_train and y_test\n",
        "y_train\n",
        "y_test"
      ]
    },
    {
      "cell_type": "code",
      "execution_count": 91,
      "id": "c8c13e49",
      "metadata": {
        "id": "c8c13e49"
      },
      "outputs": [],
      "source": [
        "# Converting y_train and y_test to categorical format\n",
        "y_train.shape\n",
        "y_example = to_categorical(y_train)\n",
        "y_example\n",
        "y_example.shape\n",
        "y_cat_train = to_categorical(y_train, 10)\n",
        "y_cat_test = to_categorical(y_test, 10)"
      ]
    },
    {
      "cell_type": "code",
      "execution_count": 92,
      "id": "b5c838b2",
      "metadata": {
        "colab": {
          "base_uri": "https://localhost:8080/"
        },
        "id": "b5c838b2",
        "outputId": "d978ec4b-dbc2-442d-e609-88e2d4247131"
      },
      "outputs": [
        {
          "output_type": "execute_result",
          "data": {
            "text/plain": [
              "5"
            ]
          },
          "metadata": {},
          "execution_count": 92
        }
      ],
      "source": [
        "# Checking the maximum and minimum pixel values of the single image\n",
        "single_image.max()\n",
        "single_image.min()"
      ]
    },
    {
      "cell_type": "code",
      "execution_count": 93,
      "id": "46a737d6",
      "metadata": {
        "id": "46a737d6"
      },
      "outputs": [],
      "source": [
        "# Normalizing pixel values of the images\n",
        "x_train = x_train / 255\n",
        "x_test = x_test / 255"
      ]
    },
    {
      "cell_type": "code",
      "execution_count": 94,
      "id": "7995fd14",
      "metadata": {
        "colab": {
          "base_uri": "https://localhost:8080/"
        },
        "id": "7995fd14",
        "outputId": "600373c9-2169-4ece-a319-fe28c59fe615"
      },
      "outputs": [
        {
          "output_type": "execute_result",
          "data": {
            "text/plain": [
              "0.0196078431372549"
            ]
          },
          "metadata": {},
          "execution_count": 94
        }
      ],
      "source": [
        "# Checking the maximum and minimum pixel values of the normalized image\n",
        "scaled_image = x_train[30]\n",
        "scaled_image.max()\n",
        "scaled_image.min()"
      ]
    },
    {
      "cell_type": "code",
      "execution_count": 95,
      "id": "d7a0ccc6",
      "metadata": {
        "colab": {
          "base_uri": "https://localhost:8080/",
          "height": 447
        },
        "id": "d7a0ccc6",
        "outputId": "b26df25e-b8e6-47d8-d9da-fae2c8cbdb2e"
      },
      "outputs": [
        {
          "output_type": "execute_result",
          "data": {
            "text/plain": [
              "<matplotlib.image.AxesImage at 0x78a6ae737fd0>"
            ]
          },
          "metadata": {},
          "execution_count": 95
        },
        {
          "output_type": "display_data",
          "data": {
            "text/plain": [
              "<Figure size 640x480 with 1 Axes>"
            ],
            "image/png": "[encoded data removed]"
          },
          "metadata": {}
        }
      ],
      "source": [
        "# Displaying the normalized image\n",
        "plt.imshow(scaled_image)"
      ]
    },
    {
      "cell_type": "code",
      "execution_count": 96,
      "id": "9b555989",
      "metadata": {
        "colab": {
          "base_uri": "https://localhost:8080/"
        },
        "id": "9b555989",
        "outputId": "58650051-bd14-485c-992c-ed86b776f66d"
      },
      "outputs": [
        {
          "output_type": "execute_result",
          "data": {
            "text/plain": [
              "(50000, 32, 32, 3)"
            ]
          },
          "metadata": {},
          "execution_count": 96
        }
      ],
      "source": [
        "x_train.shape"
      ]
    },
    {
      "cell_type": "code",
      "execution_count": 97,
      "id": "c6400d7a",
      "metadata": {
        "id": "c6400d7a"
      },
      "outputs": [],
      "source": [
        "# Model definition\n",
        "model = Sequential()"
      ]
    },
    {
      "cell_type": "code",
      "execution_count": 98,
      "id": "edd96a5f",
      "metadata": {
        "id": "edd96a5f"
      },
      "outputs": [],
      "source": [
        "# Model Architecture\n",
        "model = Sequential()\n",
        "\n",
        "# Convolutional layers with ReLU activation\n",
        "model.add(Conv2D(32, (3, 3), activation='relu', input_shape=(32, 32, 3)))\n",
        "model.add(MaxPooling2D((2, 2)))\n",
        "model.add(Conv2D(64, (3, 3), activation='relu'))\n",
        "model.add(MaxPooling2D((2, 2)))\n",
        "model.add(Conv2D(64, (3, 3), activation='relu'))\n",
        "\n",
        "# Flattening the output for the dense layers\n",
        "model.add(Flatten())\n",
        "\n",
        "# Dense layers with ReLU activation\n",
        "model.add(Dense(64, activation='relu'))\n",
        "model.add(Dense(32, activation='relu'))\n",
        "\n",
        "# Output layer with Softmax activation\n",
        "model.add(Dense(10, activation='softmax'))"
      ]
    },
    {
      "cell_type": "code",
      "execution_count": 99,
      "id": "a8842dfe",
      "metadata": {
        "id": "a8842dfe"
      },
      "outputs": [],
      "source": [
        "# model compilation\n",
        "model.compile(loss='categorical_crossentropy',\n",
        "              optimizer='rmsprop',\n",
        "              metrics=['accuracy'])"
      ]
    },
    {
      "cell_type": "code",
      "source": [
        "# Model summary\n",
        "model.summary()"
      ],
      "metadata": {
        "colab": {
          "base_uri": "https://localhost:8080/"
        },
        "id": "CBjKR3tirmcD",
        "outputId": "e31ecc78-88d9-43a1-93be-b6a9c3a556b9"
      },
      "id": "CBjKR3tirmcD",
      "execution_count": 100,
      "outputs": [
        {
          "output_type": "stream",
          "name": "stdout",
          "text": [
            "Model: \"sequential_7\"\n",
            "_________________________________________________________________\n",
            " Layer (type)                Output Shape              Param #   \n",
            "=================================================================\n",
            " conv2d_15 (Conv2D)          (None, 30, 30, 32)        896       \n",
            "                                                                 \n",
            " max_pooling2d_10 (MaxPooli  (None, 15, 15, 32)        0         \n",
            " ng2D)                                                           \n",
            "                                                                 \n",
            " conv2d_16 (Conv2D)          (None, 13, 13, 64)        18496     \n",
            "                                                                 \n",
            " max_pooling2d_11 (MaxPooli  (None, 6, 6, 64)          0         \n",
            " ng2D)                                                           \n",
            "                                                                 \n",
            " conv2d_17 (Conv2D)          (None, 4, 4, 64)          36928     \n",
            "                                                                 \n",
            " flatten_5 (Flatten)         (None, 1024)              0         \n",
            "                                                                 \n",
            " dense_13 (Dense)            (None, 64)                65600     \n",
            "                                                                 \n",
            " dense_14 (Dense)            (None, 32)                2080      \n",
            "                                                                 \n",
            " dense_15 (Dense)            (None, 10)                330       \n",
            "                                                                 \n",
            "=================================================================\n",
            "Total params: 124330 (485.66 KB)\n",
            "Trainable params: 124330 (485.66 KB)\n",
            "Non-trainable params: 0 (0.00 Byte)\n",
            "_________________________________________________________________\n"
          ]
        }
      ]
    },
    {
      "cell_type": "code",
      "source": [
        "# Training the model\n",
        "model.fit(x_train, y_cat_train, epochs=13)"
      ],
      "metadata": {
        "colab": {
          "base_uri": "https://localhost:8080/"
        },
        "id": "nkyqDOJ_rmhT",
        "outputId": "53761ea6-7a13-4047-e322-7549d64e72a4"
      },
      "id": "nkyqDOJ_rmhT",
      "execution_count": 101,
      "outputs": [
        {
          "output_type": "stream",
          "name": "stdout",
          "text": [
            "Epoch 1/13\n",
            "1563/1563 [==============================] - 43s 27ms/step - loss: 1.5956 - accuracy: 0.4168\n",
            "Epoch 2/13\n",
            "1563/1563 [==============================] - 36s 23ms/step - loss: 1.1649 - accuracy: 0.5898\n",
            "Epoch 3/13\n",
            "1563/1563 [==============================] - 36s 23ms/step - loss: 0.9883 - accuracy: 0.6553\n",
            "Epoch 4/13\n",
            "1563/1563 [==============================] - 36s 23ms/step - loss: 0.8770 - accuracy: 0.6951\n",
            "Epoch 5/13\n",
            "1563/1563 [==============================] - 36s 23ms/step - loss: 0.7944 - accuracy: 0.7266\n",
            "Epoch 6/13\n",
            "1563/1563 [==============================] - 36s 23ms/step - loss: 0.7279 - accuracy: 0.7482\n",
            "Epoch 7/13\n",
            "1563/1563 [==============================] - 36s 23ms/step - loss: 0.6728 - accuracy: 0.7684\n",
            "Epoch 8/13\n",
            "1563/1563 [==============================] - 36s 23ms/step - loss: 0.6250 - accuracy: 0.7842\n",
            "Epoch 9/13\n",
            "1563/1563 [==============================] - 36s 23ms/step - loss: 0.5891 - accuracy: 0.7971\n",
            "Epoch 10/13\n",
            "1563/1563 [==============================] - 36s 23ms/step - loss: 0.5558 - accuracy: 0.8096\n",
            "Epoch 11/13\n",
            "1563/1563 [==============================] - 36s 23ms/step - loss: 0.5262 - accuracy: 0.8197\n",
            "Epoch 12/13\n",
            "1563/1563 [==============================] - 36s 23ms/step - loss: 0.5033 - accuracy: 0.8278\n",
            "Epoch 13/13\n",
            "1563/1563 [==============================] - 36s 23ms/step - loss: 0.4845 - accuracy: 0.8358\n"
          ]
        },
        {
          "output_type": "execute_result",
          "data": {
            "text/plain": [
              "<keras.src.callbacks.History at 0x78a6adcc1d50>"
            ]
          },
          "metadata": {},
          "execution_count": 101
        }
      ]
    },
    {
      "cell_type": "code",
      "source": [
        "# Making predictions on the test set\n",
        "from sklearn.metrics import classification_report\n",
        "import numpy as np\n",
        "predictions = model.predict(x_test)\n",
        "prediction_classes = np.argmax(predictions, axis=1)"
      ],
      "metadata": {
        "colab": {
          "base_uri": "https://localhost:8080/"
        },
        "id": "oKjaiwdwrmlG",
        "outputId": "cdb622d7-00e1-487c-aabf-2c23c5311cfc"
      },
      "id": "oKjaiwdwrmlG",
      "execution_count": 102,
      "outputs": [
        {
          "output_type": "stream",
          "name": "stdout",
          "text": [
            "313/313 [==============================] - 3s 9ms/step\n"
          ]
        }
      ]
    },
    {
      "cell_type": "code",
      "source": [
        "# Classification report\n",
        "report = classification_report(y_test, prediction_classes)\n",
        "print(report)"
      ],
      "metadata": {
        "colab": {
          "base_uri": "https://localhost:8080/"
        },
        "id": "cby5VULMrmop",
        "outputId": "71c6f6cd-cc44-45f2-98d4-cf965c270d94"
      },
      "id": "cby5VULMrmop",
      "execution_count": 103,
      "outputs": [
        {
          "output_type": "stream",
          "name": "stdout",
          "text": [
            "              precision    recall  f1-score   support\n",
            "\n",
            "           0       0.77      0.71      0.74      1000\n",
            "           1       0.75      0.89      0.81      1000\n",
            "           2       0.57      0.64      0.61      1000\n",
            "           3       0.50      0.55      0.53      1000\n",
            "           4       0.68      0.65      0.66      1000\n",
            "           5       0.64      0.61      0.63      1000\n",
            "           6       0.82      0.74      0.78      1000\n",
            "           7       0.79      0.74      0.77      1000\n",
            "           8       0.76      0.84      0.80      1000\n",
            "           9       0.87      0.72      0.79      1000\n",
            "\n",
            "    accuracy                           0.71     10000\n",
            "   macro avg       0.72      0.71      0.71     10000\n",
            "weighted avg       0.72      0.71      0.71     10000\n",
            "\n"
          ]
        }
      ]
    },
    {
      "cell_type": "markdown",
      "source": [],
      "metadata": {
        "id": "F76e6dexr2wA"
      },
      "id": "F76e6dexr2wA"
    }
  ],
  "metadata": {
    "kernelspec": {
      "display_name": "Python 3 (ipykernel)",
      "language": "python",
      "name": "python3"
    },
    "language_info": {
      "codemirror_mode": {
        "name": "ipython",
        "version": 3
      },
      "file_extension": ".py",
      "mimetype": "text/x-python",
      "name": "python",
      "nbconvert_exporter": "python",
      "pygments_lexer": "ipython3",
      "version": "3.11.5"
    },
    "colab": {
      "provenance": []
    }
  },
  "nbformat": 4,
  "nbformat_minor": 5
}